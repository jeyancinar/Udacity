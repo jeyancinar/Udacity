{
 "cells": [
  {
   "cell_type": "markdown",
   "metadata": {},
   "source": [
    "# Who's a good doggo?"
   ]
  },
  {
   "cell_type": "markdown",
   "metadata": {},
   "source": [
    "<span style='font-family:\"Times New Roman\"'> <span styel=''> For the dog lovers out there, we've looked into the tweet archive of Twitter user [@dog_rates](https://twitter.com/dog_rates), also known as *WeRateDogs*. This account rates people's dogs with humorous comments about the dog."
   ]
  },
  {
   "cell_type": "markdown",
   "metadata": {},
   "source": [
    "<span style='font-family:\"Times New Roman\"'> <span styel=''> Their Dogtionary explains the various stages of dog - even if you don't look at the tweets themselves, this is definetely fun to read."
   ]
  },
  {
   "cell_type": "markdown",
   "metadata": {},
   "source": [
    "![alt text](dogtionary-combined.png \"Stages of a dog according to WeRateDogs.\")"
   ]
  },
  {
   "cell_type": "markdown",
   "metadata": {},
   "source": [
    "<span style='font-family:\"Times New Roman\"'> <span styel=''>  $\\color{magenta}{\\text{Here are some of the highlights from the archive. Toggle over the images for my comments.}}$"
   ]
  },
  {
   "cell_type": "markdown",
   "metadata": {},
   "source": [
    "## Most Favorited Tweet"
   ]
  },
  {
   "cell_type": "markdown",
   "metadata": {},
   "source": [
    "<span style='font-family:\"Times New Roman\"'> <span styel=''> Although we don't know this puppo's name, it definetely stole our and $\\color{magenta}{\\text{130K other's hearts.}}$ Here's the original [tweet.](https://twitter.com/dog_rates/status/822872901745569793)"
   ]
  },
  {
   "cell_type": "markdown",
   "metadata": {},
   "source": [
    "![alt text](march_puppo.jpg \"13/10 would definetely boop dat nosey.\")"
   ]
  },
  {
   "cell_type": "markdown",
   "metadata": {},
   "source": [
    "## Most Retweeted Doggo"
   ]
  },
  {
   "cell_type": "markdown",
   "metadata": {},
   "source": [
    "<span style='font-family:\"Times New Roman\"'> <span styel=''> The enlightment and level of chill of this  $\\color{magenta}{\\text{doggo}}$ made us want to take a break at the pool. Watch the full video [here.](https://twitter.com/dog_rates/status/744234799360020481)"
   ]
  },
  {
   "cell_type": "markdown",
   "metadata": {},
   "source": [
    "![alt text](pool_doggo.jpg \"Doggix & Chill.\")"
   ]
  },
  {
   "cell_type": "markdown",
   "metadata": {},
   "source": [
    "## Most Popular Dog Names"
   ]
  },
  {
   "cell_type": "markdown",
   "metadata": {},
   "source": [
    "<span style='font-family:\"Times New Roman\"'> <span styel=''> Here's the Top 10 list for the most popular dog names in this archive. "
   ]
  },
  {
   "cell_type": "markdown",
   "metadata": {},
   "source": [
    "![alt text](top10_dognames.jpg \"This Charlie won't bite.\")"
   ]
  },
  {
   "cell_type": "markdown",
   "metadata": {},
   "source": [
    "<span style='font-family:\"Times New Roman\"'> <span styel=''> Although the names here are lovely, my personal favorite was $\\color{magenta}{\\text{Snoop}}$, which was mentioned only once."
   ]
  },
  {
   "cell_type": "markdown",
   "metadata": {},
   "source": [
    "## Most Popular Dog Breeds"
   ]
  },
  {
   "cell_type": "markdown",
   "metadata": {},
   "source": [
    "<span style='font-family:\"Times New Roman\"'> <span styel=''> Us, the geeky computer folks, made a *neural network* predict what is present in the images in each tweet - including dog breeds. Here's a Top 10 of the most popular dog breeds in this archive."
   ]
  },
  {
   "cell_type": "markdown",
   "metadata": {},
   "source": [
    "![alt text](top10_dogbreeds.jpg \"I can't even spell Chihuahua.\")"
   ]
  },
  {
   "cell_type": "markdown",
   "metadata": {},
   "source": [
    "<span style='font-family:\"Times New Roman\"'> <span styel=''> I would expect to see more $\\color{magenta}{\\text{groenendaels}}$, but there was only 1 in this tweet set. Just [look](https://images.app.goo.gl/gQXbhdUB29EZWmXP7) at how *majestic* they are!"
   ]
  },
  {
   "cell_type": "markdown",
   "metadata": {},
   "source": [
    "<span style='font-family:\"Times New Roman\"'> <span styel=''> Don't believe we can predict breeds this good? Then you should check out Buddy, this fluffy $\\color{magenta}{\\text{Chow,}}$ which our neural network correctly identified, with 99,9% confidence. Check out his pictures [here.](https://twitter.com/dog_rates/status/762464539388485633)"
   ]
  },
  {
   "cell_type": "markdown",
   "metadata": {},
   "source": [
    "![alt text](buddy_chow.jpg \"Buddy can't believe you can't believe in this.\")"
   ]
  },
  {
   "cell_type": "markdown",
   "metadata": {},
   "source": [
    "# Final Remarks"
   ]
  },
  {
   "cell_type": "markdown",
   "metadata": {},
   "source": [
    "<span style='font-family:\"Times New Roman\"'> <span styel=''> By comparing the most favorited and retweeted tweets, we can further look into the idea that people prefer to $\\color{magenta}{\\text{'favorite'}}$ dogs instead of retweeting them."
   ]
  },
  {
   "cell_type": "markdown",
   "metadata": {},
   "source": [
    "<span style='font-family:\"Times New Roman\"'> <span styel=''> And looking only at these two tweets, it looks like users interacted with dog pictures with a *context* - one puppo at a $\\color{magenta}{\\text{Women's March}}$ and another doggo $\\color{magenta}{\\text{realizing it can stand in water}}$ (when usually they do this even in the *air*) seem to have attracted attention not only with their cuteness, but also with their surroundings or the situations they're in."
   ]
  },
  {
   "cell_type": "markdown",
   "metadata": {},
   "source": [
    "<span style='font-family:\"Times New Roman\"'> <span styel=''> I actually find it amusing (and I must admit, a bit *scary*) that the name $\\color{magenta}{\\text{Charlie}}$ came up as the most common one. Because of [this](https://en.wikipedia.org/wiki/Charlie_Bit_My_Finger) viral video it makes me a bit nervous to think a cute doggo may *literally* bite my finger."
   ]
  },
  {
   "cell_type": "markdown",
   "metadata": {},
   "source": [
    "<span style='font-family:\"Times New Roman\"'> <span styel=''> Both Golden an Labrador Retrievers were at the top of our breed list - it may be safe to say most of these users preferred $\\color{magenta}{\\text{Retrievers}}$ overall. I share their enthusiasm for wavy blonde - haired guys *(with four tippy-taps)*."
   ]
  },
  {
   "cell_type": "markdown",
   "metadata": {},
   "source": [
    "<span style='font-family:\"Times New Roman\"'> <span styel=''> Although chows were a bit down below in our Top 10 list of popular breeds, Buddy's $\\color{magenta}{\\text{breed prediction}}$ had a pretty high level of confidence - this could be due to the distinctive looks of those fluffy marshmellows."
   ]
  },
  {
   "cell_type": "markdown",
   "metadata": {},
   "source": [
    "<span style='font-family:\"Times New Roman\"'> <span styel=''> We could have also looked into the $\\color{magenta}{\\text{ratings}}$ as well, but... It ranges from 0 *(poor doggo)* to 177,6 *(which contained an image of multiple fluffers!)* - and it's really hard to give it a nominal value. Logically, if it's a scale from 1 to 10 out of 10, largest number should have been a 1 (10/10) - but where's the fun in that :) And the account owners definetely tried to score these snuggers higher than 10, because the mean rating is around $\\color{magenta}{\\text{1.3}}$."
   ]
  },
  {
   "cell_type": "code",
   "execution_count": 1,
   "metadata": {},
   "outputs": [
    {
     "data": {
      "text/plain": [
       "0"
      ]
     },
     "execution_count": 1,
     "metadata": {},
     "output_type": "execute_result"
    }
   ],
   "source": [
    "import os\n",
    "os.system('jupyter nbconvert --to html act_report.ipynb')"
   ]
  }
 ],
 "metadata": {
  "kernelspec": {
   "display_name": "Python 3",
   "language": "python",
   "name": "python3"
  },
  "language_info": {
   "codemirror_mode": {
    "name": "ipython",
    "version": 3
   },
   "file_extension": ".py",
   "mimetype": "text/x-python",
   "name": "python",
   "nbconvert_exporter": "python",
   "pygments_lexer": "ipython3",
   "version": "3.7.3"
  }
 },
 "nbformat": 4,
 "nbformat_minor": 4
}
