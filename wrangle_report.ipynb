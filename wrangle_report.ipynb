{
 "cells": [
  {
   "cell_type": "markdown",
   "metadata": {},
   "source": [
    "# Wrangle - Report"
   ]
  },
  {
   "cell_type": "markdown",
   "metadata": {},
   "source": [
    "Here I'll summarize my wrangling efforts on data about WeRateDogs."
   ]
  },
  {
   "cell_type": "markdown",
   "metadata": {},
   "source": [
    "## 1. Gathering the Data"
   ]
  },
  {
   "cell_type": "markdown",
   "metadata": {},
   "source": [
    "After importing the necessary libraries, I've collected 3 files and read them in my notebook."
   ]
  },
  {
   "cell_type": "markdown",
   "metadata": {},
   "source": [
    "`1.` I already had the WeRateDogs tweet archive in `twitter-archive-enhanced.csv`. I read this into my notebook using Pandas' `read_csv` command, then saved it in `twitter_archive`."
   ]
  },
  {
   "cell_type": "markdown",
   "metadata": {},
   "source": [
    "`2.` The output of a neural network's image predictions was available on Udacity servers. I first downloaded it using requests library, then saved it with `outfile` & read it as a TSV again using `read_csv` and saved it in `image_predictions`."
   ]
  },
  {
   "cell_type": "markdown",
   "metadata": {},
   "source": [
    "`3.` Other data related to tweets such as retweet and favorite count were available in Udacity servers as well (scraped by using Twitter API). I read this JSON file using `json` library and saved it in `tweet_data`."
   ]
  },
  {
   "cell_type": "markdown",
   "metadata": {},
   "source": [
    "## 2. Assessing the Data"
   ]
  },
  {
   "cell_type": "markdown",
   "metadata": {},
   "source": [
    "I've assessed all 3 tables both visually and programmatically, then made some notes both for Quality and Tidiness of them."
   ]
  },
  {
   "cell_type": "markdown",
   "metadata": {},
   "source": [
    "### Overall Observations"
   ]
  },
  {
   "cell_type": "markdown",
   "metadata": {},
   "source": [
    "#### Quality"
   ]
  },
  {
   "cell_type": "markdown",
   "metadata": {},
   "source": [
    "- Number of rows didn't match each other. This can be interpreted as none of the files having the same amount of tweets."
   ]
  },
  {
   "cell_type": "markdown",
   "metadata": {},
   "source": [
    "#### Tidiness"
   ]
  },
  {
   "cell_type": "markdown",
   "metadata": {},
   "source": [
    "- Having 3 tables does not look so tidy when we can have only 1."
   ]
  },
  {
   "cell_type": "markdown",
   "metadata": {},
   "source": [
    "### `twitter_archive` Table"
   ]
  },
  {
   "cell_type": "markdown",
   "metadata": {},
   "source": [
    "#### Quality"
   ]
  },
  {
   "cell_type": "markdown",
   "metadata": {},
   "source": [
    "- The file had some columns I didn't intend to use, and some didn't make much sense anyway.\n",
    "- The file had some data type issues as it was saved as a CSV. \n",
    "- Rating denonminator had the lowest value of 0, which could cause a divison error. It also had values lower than 10, which didn't fit the definition of the calculation so well.\n",
    "- There were some dog names that were actually random words extracted from the text, either as the tweet didn't include a name or it was falsely extracted."
   ]
  },
  {
   "cell_type": "markdown",
   "metadata": {},
   "source": [
    "#### Tidiness"
   ]
  },
  {
   "cell_type": "markdown",
   "metadata": {},
   "source": [
    "- Dog stages were recorded in their separate respective columns as they were directly extracted from the tweet.\n",
    "- Rating numerator and denominator were recorded separately in their respective colums from the same reason."
   ]
  },
  {
   "cell_type": "markdown",
   "metadata": {},
   "source": [
    "### `image_predictions` Table"
   ]
  },
  {
   "cell_type": "markdown",
   "metadata": {},
   "source": [
    "#### Quality"
   ]
  },
  {
   "cell_type": "markdown",
   "metadata": {},
   "source": [
    "- The file had some data type issues as it was saved as a TSV."
   ]
  },
  {
   "cell_type": "markdown",
   "metadata": {},
   "source": [
    "### `tweet_data` Table"
   ]
  },
  {
   "cell_type": "markdown",
   "metadata": {},
   "source": [
    "#### Quality"
   ]
  },
  {
   "cell_type": "markdown",
   "metadata": {},
   "source": [
    "- The file had some data type issues as it was saved as a TXT."
   ]
  },
  {
   "cell_type": "markdown",
   "metadata": {},
   "source": [
    "## 3. Cleaning the Data"
   ]
  },
  {
   "cell_type": "markdown",
   "metadata": {},
   "source": [
    "I've copied all 3 files in their respective names and made some changes in the copies to get a better set of data."
   ]
  },
  {
   "cell_type": "markdown",
   "metadata": {},
   "source": [
    "**Quality Fix 1:** Dropped the redundant columns in `twitter_archive_v2`."
   ]
  },
  {
   "cell_type": "markdown",
   "metadata": {},
   "source": [
    "**Quality Fix 2:** Converted the `time_stamp` columns' type into a datetime format in `twitter_archive_v2`."
   ]
  },
  {
   "cell_type": "markdown",
   "metadata": {},
   "source": [
    "**Quality Fix 3:** Converted `tweet_id` to a string format in `twitter_archive_v2`."
   ]
  },
  {
   "cell_type": "markdown",
   "metadata": {},
   "source": [
    "**Quality Fix 4:** Replaced all rating denominators less than 10 with 10 in `twitter_archive_v2`."
   ]
  },
  {
   "cell_type": "markdown",
   "metadata": {},
   "source": [
    "**Quality Fix 5:** Got rid of all of the rows with random words as dog names in `twitter_archive_v2`."
   ]
  },
  {
   "cell_type": "markdown",
   "metadata": {},
   "source": [
    "**Quality Fix 6:** Replaced all 'None' in dog names columns with NaN in `twitter_archive_v2` for ease of use in the analysis section."
   ]
  },
  {
   "cell_type": "markdown",
   "metadata": {},
   "source": [
    "**Tidiness Fix 1:** Merged all dog stage columns into 1 under the name of `dog_stage` and dropped the original ones in `twitter_archive_v2`."
   ]
  },
  {
   "cell_type": "markdown",
   "metadata": {},
   "source": [
    "**Tidiness Fix 2:** Calculated the rating score using the numerator and denominator, then dropped the original ones in `twitter_archive_v2`."
   ]
  },
  {
   "cell_type": "markdown",
   "metadata": {},
   "source": [
    "**Quality Fix 7:** Converted `tweet_id` to a string format in `image_predictions_v2`."
   ]
  },
  {
   "cell_type": "markdown",
   "metadata": {},
   "source": [
    "**Quality Fix 8:** Converted `retweet_count` and `favorite_count` to integers in `tweet_data_v2`."
   ]
  },
  {
   "cell_type": "markdown",
   "metadata": {},
   "source": [
    "**Tidiness Fix 3:** Finally I merged `twitter_archive_v2`, `image_predictions_v2` and `tweet_data_v2` into `twitter_archive_master`."
   ]
  },
  {
   "cell_type": "markdown",
   "metadata": {},
   "source": [
    "**Quality Fix 9:** Converted NaNs in `img_num` to zeros then the whole column into integers."
   ]
  },
  {
   "cell_type": "markdown",
   "metadata": {},
   "source": [
    "**Quality Fix 10:** Converted all dog prediction checkers `p1_dog`, `p2_dog` and `p3_dog` into boolean."
   ]
  },
  {
   "cell_type": "code",
   "execution_count": 1,
   "metadata": {},
   "outputs": [
    {
     "data": {
      "text/plain": [
       "0"
      ]
     },
     "execution_count": 1,
     "metadata": {},
     "output_type": "execute_result"
    }
   ],
   "source": [
    "import os\n",
    "os.system('jupyter nbconvert --to html wrangle_report.ipynb')"
   ]
  }
 ],
 "metadata": {
  "kernelspec": {
   "display_name": "Python 3",
   "language": "python",
   "name": "python3"
  },
  "language_info": {
   "codemirror_mode": {
    "name": "ipython",
    "version": 3
   },
   "file_extension": ".py",
   "mimetype": "text/x-python",
   "name": "python",
   "nbconvert_exporter": "python",
   "pygments_lexer": "ipython3",
   "version": "3.7.3"
  }
 },
 "nbformat": 4,
 "nbformat_minor": 4
}
